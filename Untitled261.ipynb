{
  "nbformat": 4,
  "nbformat_minor": 0,
  "metadata": {
    "colab": {
      "provenance": []
    },
    "kernelspec": {
      "name": "python3",
      "display_name": "Python 3"
    },
    "language_info": {
      "name": "python"
    }
  },
  "cells": [
    {
      "cell_type": "code",
      "execution_count": 2,
      "metadata": {
        "id": "k7bt7cY6LIDp"
      },
      "outputs": [],
      "source": [
        "# List of notable Rajinikanth movies\n",
        "rajinikanth_movies = [\n",
        "    \"Apoorva Raagangal (1975)\",\n",
        "    \"Baasha (1995)\",\n",
        "    \"Muthu (1995)\",\n",
        "    \"Arunachalam (1997)\",\n",
        "    \"Sivaji (2007)\",\n",
        "    \"Robot (Enthiran) (2010)\",\n",
        "    \"Kochadaiiyaan (2014)\",\n",
        "    \"Lingaa (2014)\",\n",
        "    \"Kabali (2016)\",\n",
        "    \"2.0 (2018)\",\n",
        "    \"Petta (2019)\",\n",
        "    \"Darbar (2020)\",\n",
        "    \"Annaatthe (2021)\",\n",
        "    \"Jailer (2023)\"  # Upcoming movie\n",
        "]\n",
        "\n"
      ]
    },
    {
      "cell_type": "code",
      "source": [
        "# 1. Accessing elements\n",
        "print(\"First movie:\", rajinikanth_movies[0])  # Access first movie\n",
        "print(\"Last movie:\", rajinikanth_movies[-1])  # Access last movie\n",
        "\n"
      ],
      "metadata": {
        "colab": {
          "base_uri": "https://localhost:8080/"
        },
        "id": "9QNam15lLU1g",
        "outputId": "914856c9-5cac-47f1-b47d-4e0a68a195fe"
      },
      "execution_count": 3,
      "outputs": [
        {
          "output_type": "stream",
          "name": "stdout",
          "text": [
            "First movie: Apoorva Raagangal (1975)\n",
            "Last movie: Jailer (2023)\n"
          ]
        }
      ]
    },
    {
      "cell_type": "code",
      "source": [
        "# 2. Adding a movie\n",
        "rajinikanth_movies.append(\"New Movie (2023)\")  # Adding a new movie\n",
        "print(\"After adding a new movie:\", rajinikanth_movies)\n",
        "\n"
      ],
      "metadata": {
        "colab": {
          "base_uri": "https://localhost:8080/"
        },
        "id": "9VDRPH1NLXl-",
        "outputId": "ca61e82e-4b62-4253-d8cd-554aa6339589"
      },
      "execution_count": 4,
      "outputs": [
        {
          "output_type": "stream",
          "name": "stdout",
          "text": [
            "After adding a new movie: ['Apoorva Raagangal (1975)', 'Baasha (1995)', 'Muthu (1995)', 'Arunachalam (1997)', 'Sivaji (2007)', 'Robot (Enthiran) (2010)', 'Kochadaiiyaan (2014)', 'Lingaa (2014)', 'Kabali (2016)', '2.0 (2018)', 'Petta (2019)', 'Darbar (2020)', 'Annaatthe (2021)', 'Jailer (2023)', 'New Movie (2023)']\n"
          ]
        }
      ]
    },
    {
      "cell_type": "code",
      "source": [
        "# 3. Removing a movie\n",
        "rajinikanth_movies.remove(\"New Movie (2023)\")  # Removing the newly added movie\n",
        "print(\"After removing the new movie:\", rajinikanth_movies)\n",
        "\n"
      ],
      "metadata": {
        "colab": {
          "base_uri": "https://localhost:8080/"
        },
        "id": "oTVW-F-fLdGu",
        "outputId": "48ec957c-873d-4026-a0b5-18a67b5d65b0"
      },
      "execution_count": 5,
      "outputs": [
        {
          "output_type": "stream",
          "name": "stdout",
          "text": [
            "After removing the new movie: ['Apoorva Raagangal (1975)', 'Baasha (1995)', 'Muthu (1995)', 'Arunachalam (1997)', 'Sivaji (2007)', 'Robot (Enthiran) (2010)', 'Kochadaiiyaan (2014)', 'Lingaa (2014)', 'Kabali (2016)', '2.0 (2018)', 'Petta (2019)', 'Darbar (2020)', 'Annaatthe (2021)', 'Jailer (2023)']\n"
          ]
        }
      ]
    },
    {
      "cell_type": "code",
      "source": [
        "# 4. Finding the number of movies\n",
        "print(\"Total number of movies:\", len(rajinikanth_movies))\n",
        "\n"
      ],
      "metadata": {
        "colab": {
          "base_uri": "https://localhost:8080/"
        },
        "id": "mcOMGF-yLgcW",
        "outputId": "722b61ce-e541-4c86-8a03-696d161b7d84"
      },
      "execution_count": 6,
      "outputs": [
        {
          "output_type": "stream",
          "name": "stdout",
          "text": [
            "Total number of movies: 14\n"
          ]
        }
      ]
    },
    {
      "cell_type": "code",
      "source": [
        "# 5. Checking if a movie is in the list\n",
        "movie_to_check = \"Sivaji (2007)\"\n",
        "if movie_to_check in rajinikanth_movies:\n",
        "    print(f\"{movie_to_check} is in the list.\")\n",
        "else:\n",
        "    print(f\"{movie_to_check} is not in the list.\")\n",
        "\n"
      ],
      "metadata": {
        "colab": {
          "base_uri": "https://localhost:8080/"
        },
        "id": "lMZFAOAsLiC2",
        "outputId": "e75e8331-f801-4abd-86f5-07d24985ad09"
      },
      "execution_count": 7,
      "outputs": [
        {
          "output_type": "stream",
          "name": "stdout",
          "text": [
            "Sivaji (2007) is in the list.\n"
          ]
        }
      ]
    },
    {
      "cell_type": "code",
      "source": [
        "# 6. Sorting the list\n",
        "rajinikanth_movies.sort()  # Sort the movies alphabetically\n",
        "print(\"Sorted list of movies:\", rajinikanth_movies)\n"
      ],
      "metadata": {
        "colab": {
          "base_uri": "https://localhost:8080/"
        },
        "id": "TdkwAjFHLmNP",
        "outputId": "feaa0bf4-7369-4a83-f4f4-eb061d8197f1"
      },
      "execution_count": 8,
      "outputs": [
        {
          "output_type": "stream",
          "name": "stdout",
          "text": [
            "Sorted list of movies: ['2.0 (2018)', 'Annaatthe (2021)', 'Apoorva Raagangal (1975)', 'Arunachalam (1997)', 'Baasha (1995)', 'Darbar (2020)', 'Jailer (2023)', 'Kabali (2016)', 'Kochadaiiyaan (2014)', 'Lingaa (2014)', 'Muthu (1995)', 'Petta (2019)', 'Robot (Enthiran) (2010)', 'Sivaji (2007)']\n"
          ]
        }
      ]
    },
    {
      "cell_type": "code",
      "source": [
        "\n",
        "# 7. List Comprehension to create a list of movies released after 2000\n",
        "recent_movies = [movie for movie in rajinikanth_movies if \"(2000)\" in movie or \"(2010)\" in movie or \"(2020)\" in movie]\n",
        "print(\"Movies released after 2000:\", recent_movies)"
      ],
      "metadata": {
        "colab": {
          "base_uri": "https://localhost:8080/"
        },
        "id": "wMcS_UaULnjW",
        "outputId": "fa9d7b7e-d66f-4cd2-de17-3d159d2087b3"
      },
      "execution_count": 9,
      "outputs": [
        {
          "output_type": "stream",
          "name": "stdout",
          "text": [
            "Movies released after 2000: ['Darbar (2020)', 'Robot (Enthiran) (2010)']\n"
          ]
        }
      ]
    }
  ]
}